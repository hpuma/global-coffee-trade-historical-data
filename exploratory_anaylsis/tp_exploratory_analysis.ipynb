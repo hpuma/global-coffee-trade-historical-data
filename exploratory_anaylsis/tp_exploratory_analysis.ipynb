{
 "cells": [
  {
   "cell_type": "code",
   "execution_count": 5,
   "id": "ff048f9b",
   "metadata": {},
   "outputs": [],
   "source": [
    "import numpy as np\n",
    "import pandas as pd\n",
    "import seaborn as sns\n",
    "import matplotlib.pyplot as plt\n",
    "%matplotlib inline"
   ]
  },
  {
   "cell_type": "code",
   "execution_count": 6,
   "id": "aa7c4d48",
   "metadata": {},
   "outputs": [
    {
     "data": {
      "text/html": [
       "<div>\n",
       "<style scoped>\n",
       "    .dataframe tbody tr th:only-of-type {\n",
       "        vertical-align: middle;\n",
       "    }\n",
       "\n",
       "    .dataframe tbody tr th {\n",
       "        vertical-align: top;\n",
       "    }\n",
       "\n",
       "    .dataframe thead th {\n",
       "        text-align: right;\n",
       "    }\n",
       "</style>\n",
       "<table border=\"1\" class=\"dataframe\">\n",
       "  <thead>\n",
       "    <tr style=\"text-align: right;\">\n",
       "      <th></th>\n",
       "      <th>country</th>\n",
       "      <th>group</th>\n",
       "      <th>year</th>\n",
       "      <th>units</th>\n",
       "    </tr>\n",
       "  </thead>\n",
       "  <tbody>\n",
       "    <tr>\n",
       "      <th>0</th>\n",
       "      <td>Angola</td>\n",
       "      <td>April</td>\n",
       "      <td>1990</td>\n",
       "      <td>50</td>\n",
       "    </tr>\n",
       "    <tr>\n",
       "      <th>1</th>\n",
       "      <td>Bolivia (Plurinational State of)</td>\n",
       "      <td>April</td>\n",
       "      <td>1990</td>\n",
       "      <td>123</td>\n",
       "    </tr>\n",
       "    <tr>\n",
       "      <th>2</th>\n",
       "      <td>Brazil</td>\n",
       "      <td>April</td>\n",
       "      <td>1990</td>\n",
       "      <td>27286</td>\n",
       "    </tr>\n",
       "    <tr>\n",
       "      <th>3</th>\n",
       "      <td>Burundi</td>\n",
       "      <td>April</td>\n",
       "      <td>1990</td>\n",
       "      <td>487</td>\n",
       "    </tr>\n",
       "    <tr>\n",
       "      <th>4</th>\n",
       "      <td>Ecuador</td>\n",
       "      <td>April</td>\n",
       "      <td>1990</td>\n",
       "      <td>1504</td>\n",
       "    </tr>\n",
       "    <tr>\n",
       "      <th>...</th>\n",
       "      <td>...</td>\n",
       "      <td>...</td>\n",
       "      <td>...</td>\n",
       "      <td>...</td>\n",
       "    </tr>\n",
       "    <tr>\n",
       "      <th>1645</th>\n",
       "      <td>Trinidad &amp; Tobago</td>\n",
       "      <td>October</td>\n",
       "      <td>2019</td>\n",
       "      <td>12</td>\n",
       "    </tr>\n",
       "    <tr>\n",
       "      <th>1646</th>\n",
       "      <td>Uganda</td>\n",
       "      <td>October</td>\n",
       "      <td>2019</td>\n",
       "      <td>5509</td>\n",
       "    </tr>\n",
       "    <tr>\n",
       "      <th>1647</th>\n",
       "      <td>Venezuela</td>\n",
       "      <td>October</td>\n",
       "      <td>2019</td>\n",
       "      <td>650</td>\n",
       "    </tr>\n",
       "    <tr>\n",
       "      <th>1648</th>\n",
       "      <td>Viet Nam</td>\n",
       "      <td>October</td>\n",
       "      <td>2019</td>\n",
       "      <td>30487</td>\n",
       "    </tr>\n",
       "    <tr>\n",
       "      <th>1649</th>\n",
       "      <td>Yemen</td>\n",
       "      <td>October</td>\n",
       "      <td>2019</td>\n",
       "      <td>91</td>\n",
       "    </tr>\n",
       "  </tbody>\n",
       "</table>\n",
       "<p>1650 rows × 4 columns</p>\n",
       "</div>"
      ],
      "text/plain": [
       "                               country    group  year  units\n",
       "0                               Angola    April  1990     50\n",
       "1     Bolivia (Plurinational State of)    April  1990    123\n",
       "2                               Brazil    April  1990  27286\n",
       "3                              Burundi    April  1990    487\n",
       "4                              Ecuador    April  1990   1504\n",
       "...                                ...      ...   ...    ...\n",
       "1645                 Trinidad & Tobago  October  2019     12\n",
       "1646                            Uganda  October  2019   5509\n",
       "1647                         Venezuela  October  2019    650\n",
       "1648                          Viet Nam  October  2019  30487\n",
       "1649                             Yemen  October  2019     91\n",
       "\n",
       "[1650 rows x 4 columns]"
      ]
     },
     "execution_count": 6,
     "metadata": {},
     "output_type": "execute_result"
    }
   ],
   "source": [
    "df = pd.read_csv(\"../data/total_production_V2.csv\")\n",
    "df"
   ]
  },
  {
   "cell_type": "code",
   "execution_count": 18,
   "id": "1e62750b",
   "metadata": {},
   "outputs": [
    {
     "data": {
      "text/html": [
       "<div>\n",
       "<style scoped>\n",
       "    .dataframe tbody tr th:only-of-type {\n",
       "        vertical-align: middle;\n",
       "    }\n",
       "\n",
       "    .dataframe tbody tr th {\n",
       "        vertical-align: top;\n",
       "    }\n",
       "\n",
       "    .dataframe thead th {\n",
       "        text-align: right;\n",
       "    }\n",
       "</style>\n",
       "<table border=\"1\" class=\"dataframe\">\n",
       "  <thead>\n",
       "    <tr style=\"text-align: right;\">\n",
       "      <th></th>\n",
       "      <th>country</th>\n",
       "      <th>group</th>\n",
       "      <th>year</th>\n",
       "      <th>units</th>\n",
       "    </tr>\n",
       "  </thead>\n",
       "  <tbody>\n",
       "    <tr>\n",
       "      <th>0</th>\n",
       "      <td>Angola</td>\n",
       "      <td>April</td>\n",
       "      <td>1990</td>\n",
       "      <td>50</td>\n",
       "    </tr>\n",
       "    <tr>\n",
       "      <th>1</th>\n",
       "      <td>Bolivia (Plurinational State of)</td>\n",
       "      <td>April</td>\n",
       "      <td>1990</td>\n",
       "      <td>123</td>\n",
       "    </tr>\n",
       "    <tr>\n",
       "      <th>2</th>\n",
       "      <td>Brazil</td>\n",
       "      <td>April</td>\n",
       "      <td>1990</td>\n",
       "      <td>27286</td>\n",
       "    </tr>\n",
       "    <tr>\n",
       "      <th>3</th>\n",
       "      <td>Burundi</td>\n",
       "      <td>April</td>\n",
       "      <td>1990</td>\n",
       "      <td>487</td>\n",
       "    </tr>\n",
       "    <tr>\n",
       "      <th>4</th>\n",
       "      <td>Ecuador</td>\n",
       "      <td>April</td>\n",
       "      <td>1990</td>\n",
       "      <td>1504</td>\n",
       "    </tr>\n",
       "  </tbody>\n",
       "</table>\n",
       "</div>"
      ],
      "text/plain": [
       "                            country  group  year  units\n",
       "0                            Angola  April  1990     50\n",
       "1  Bolivia (Plurinational State of)  April  1990    123\n",
       "2                            Brazil  April  1990  27286\n",
       "3                           Burundi  April  1990    487\n",
       "4                           Ecuador  April  1990   1504"
      ]
     },
     "execution_count": 18,
     "metadata": {},
     "output_type": "execute_result"
    }
   ],
   "source": [
    "# 1. Columns of interest\n",
    "df.head()\n"
   ]
  },
  {
   "cell_type": "code",
   "execution_count": 21,
   "id": "04513a49",
   "metadata": {},
   "outputs": [
    {
     "data": {
      "text/plain": [
       "year\n",
       "1990    1695.090909\n",
       "1991    1841.254545\n",
       "1992    1791.290909\n",
       "1993    1668.345455\n",
       "1994    1696.618182\n",
       "Name: units, dtype: float64"
      ]
     },
     "execution_count": 21,
     "metadata": {},
     "output_type": "execute_result"
    }
   ],
   "source": [
    "# Compute averge units by year\n",
    "avg_by_year = df.groupby([\"year\"])[\"units\"].mean()\n",
    "avg_by_year.head()"
   ]
  },
  {
   "cell_type": "code",
   "execution_count": 22,
   "id": "854b8666",
   "metadata": {},
   "outputs": [
    {
     "data": {
      "text/plain": [
       "year  group  \n",
       "1990  April      2914.000000\n",
       "      July        517.000000\n",
       "      October    1435.735294\n",
       "1991  April      3037.785714\n",
       "      July        418.000000\n",
       "Name: units, dtype: float64"
      ]
     },
     "execution_count": 22,
     "metadata": {},
     "output_type": "execute_result"
    }
   ],
   "source": [
    "# Compute average units by year, group\n",
    "avg_by_year_group = df.groupby([\"year\", \"group\"])[\"units\"].mean()\n",
    "avg_by_year_group.head()"
   ]
  },
  {
   "cell_type": "code",
   "execution_count": 2,
   "id": "27aa0bad",
   "metadata": {},
   "outputs": [],
   "source": [
    "# 2. Exploring individual columns\n"
   ]
  },
  {
   "cell_type": "code",
   "execution_count": 3,
   "id": "75c64209",
   "metadata": {},
   "outputs": [],
   "source": [
    "# 3. Plotting 2d distributions of variables of interest vs target variables"
   ]
  },
  {
   "cell_type": "code",
   "execution_count": null,
   "id": "a09b1900",
   "metadata": {},
   "outputs": [],
   "source": [
    "# 4. Analyzing correlations between independent and dependent variables"
   ]
  }
 ],
 "metadata": {
  "kernelspec": {
   "display_name": "Python 3 (ipykernel)",
   "language": "python",
   "name": "python3"
  },
  "language_info": {
   "codemirror_mode": {
    "name": "ipython",
    "version": 3
   },
   "file_extension": ".py",
   "mimetype": "text/x-python",
   "name": "python",
   "nbconvert_exporter": "python",
   "pygments_lexer": "ipython3",
   "version": "3.11.0"
  }
 },
 "nbformat": 4,
 "nbformat_minor": 5
}
