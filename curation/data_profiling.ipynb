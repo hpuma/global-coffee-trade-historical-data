{
 "cells": [
  {
   "cell_type": "code",
   "execution_count": 2,
   "id": "4a52635d",
   "metadata": {},
   "outputs": [],
   "source": [
    "import numpy as np\n",
    "import pandas as pd\n",
    "import seaborn as sns\n",
    "import matplotlib.pyplot as plt\n",
    "%matplotlib inline"
   ]
  },
  {
   "cell_type": "code",
   "execution_count": 3,
   "id": "896d46e1",
   "metadata": {},
   "outputs": [
    {
     "data": {
      "text/html": [
       "<div>\n",
       "<style scoped>\n",
       "    .dataframe tbody tr th:only-of-type {\n",
       "        vertical-align: middle;\n",
       "    }\n",
       "\n",
       "    .dataframe tbody tr th {\n",
       "        vertical-align: top;\n",
       "    }\n",
       "\n",
       "    .dataframe thead th {\n",
       "        text-align: right;\n",
       "    }\n",
       "</style>\n",
       "<table border=\"1\" class=\"dataframe\">\n",
       "  <thead>\n",
       "    <tr style=\"text-align: right;\">\n",
       "      <th></th>\n",
       "      <th>Crop year</th>\n",
       "      <th>Unnamed: 1</th>\n",
       "      <th>1990/91</th>\n",
       "      <th>1991/92</th>\n",
       "      <th>1992/93</th>\n",
       "      <th>1993/94</th>\n",
       "      <th>1994/95</th>\n",
       "      <th>1995/96</th>\n",
       "      <th>1996/97</th>\n",
       "      <th>1997/98</th>\n",
       "      <th>...</th>\n",
       "      <th>2010/11</th>\n",
       "      <th>2011/12</th>\n",
       "      <th>2012/13</th>\n",
       "      <th>2013/14</th>\n",
       "      <th>2014/15</th>\n",
       "      <th>2015/16</th>\n",
       "      <th>2016/17</th>\n",
       "      <th>2017/18</th>\n",
       "      <th>2018/19</th>\n",
       "      <th>2019/20</th>\n",
       "    </tr>\n",
       "  </thead>\n",
       "  <tbody>\n",
       "    <tr>\n",
       "      <th>0</th>\n",
       "      <td>April group</td>\n",
       "      <td>NaN</td>\n",
       "      <td>40,795</td>\n",
       "      <td>42,530</td>\n",
       "      <td>46,868</td>\n",
       "      <td>40,167</td>\n",
       "      <td>39,990</td>\n",
       "      <td>29,396</td>\n",
       "      <td>44,298</td>\n",
       "      <td>39,476</td>\n",
       "      <td>...</td>\n",
       "      <td>71,811</td>\n",
       "      <td>64,395</td>\n",
       "      <td>75,896</td>\n",
       "      <td>74,494</td>\n",
       "      <td>69,873</td>\n",
       "      <td>71,332</td>\n",
       "      <td>75,508</td>\n",
       "      <td>70,324</td>\n",
       "      <td>81,708</td>\n",
       "      <td>76,076</td>\n",
       "    </tr>\n",
       "    <tr>\n",
       "      <th>1</th>\n",
       "      <td>Angola</td>\n",
       "      <td>(R/A)</td>\n",
       "      <td>50</td>\n",
       "      <td>79</td>\n",
       "      <td>78</td>\n",
       "      <td>33</td>\n",
       "      <td>77</td>\n",
       "      <td>62</td>\n",
       "      <td>71</td>\n",
       "      <td>64</td>\n",
       "      <td>...</td>\n",
       "      <td>35</td>\n",
       "      <td>29</td>\n",
       "      <td>33</td>\n",
       "      <td>35</td>\n",
       "      <td>39</td>\n",
       "      <td>41</td>\n",
       "      <td>45</td>\n",
       "      <td>35</td>\n",
       "      <td>42</td>\n",
       "      <td>52</td>\n",
       "    </tr>\n",
       "    <tr>\n",
       "      <th>2</th>\n",
       "      <td>Bolivia (Plurinational State of)</td>\n",
       "      <td>(A)</td>\n",
       "      <td>123</td>\n",
       "      <td>104</td>\n",
       "      <td>120</td>\n",
       "      <td>51</td>\n",
       "      <td>117</td>\n",
       "      <td>142</td>\n",
       "      <td>125</td>\n",
       "      <td>141</td>\n",
       "      <td>...</td>\n",
       "      <td>117</td>\n",
       "      <td>132</td>\n",
       "      <td>105</td>\n",
       "      <td>120</td>\n",
       "      <td>100</td>\n",
       "      <td>84</td>\n",
       "      <td>78</td>\n",
       "      <td>84</td>\n",
       "      <td>83</td>\n",
       "      <td>81</td>\n",
       "    </tr>\n",
       "    <tr>\n",
       "      <th>3</th>\n",
       "      <td>Brazil</td>\n",
       "      <td>(A/R)</td>\n",
       "      <td>27,286</td>\n",
       "      <td>27,293</td>\n",
       "      <td>34,603</td>\n",
       "      <td>28,167</td>\n",
       "      <td>28,192</td>\n",
       "      <td>18,060</td>\n",
       "      <td>29,197</td>\n",
       "      <td>26,148</td>\n",
       "      <td>...</td>\n",
       "      <td>55,428</td>\n",
       "      <td>48,592</td>\n",
       "      <td>55,418</td>\n",
       "      <td>54,689</td>\n",
       "      <td>53,305</td>\n",
       "      <td>52,871</td>\n",
       "      <td>56,788</td>\n",
       "      <td>52,740</td>\n",
       "      <td>65,131</td>\n",
       "      <td>58,211</td>\n",
       "    </tr>\n",
       "    <tr>\n",
       "      <th>4</th>\n",
       "      <td>Burundi</td>\n",
       "      <td>(A/R)</td>\n",
       "      <td>487</td>\n",
       "      <td>667</td>\n",
       "      <td>620</td>\n",
       "      <td>393</td>\n",
       "      <td>664</td>\n",
       "      <td>434</td>\n",
       "      <td>401</td>\n",
       "      <td>250</td>\n",
       "      <td>...</td>\n",
       "      <td>353</td>\n",
       "      <td>204</td>\n",
       "      <td>406</td>\n",
       "      <td>163</td>\n",
       "      <td>248</td>\n",
       "      <td>269</td>\n",
       "      <td>196</td>\n",
       "      <td>202</td>\n",
       "      <td>204</td>\n",
       "      <td>272</td>\n",
       "    </tr>\n",
       "  </tbody>\n",
       "</table>\n",
       "<p>5 rows × 32 columns</p>\n",
       "</div>"
      ],
      "text/plain": [
       "                          Crop year Unnamed: 1 1990/91 1991/92 1992/93  \\\n",
       "0                       April group        NaN  40,795  42,530  46,868   \n",
       "1                            Angola      (R/A)      50      79      78   \n",
       "2  Bolivia (Plurinational State of)        (A)     123     104     120   \n",
       "3                            Brazil      (A/R)  27,286  27,293  34,603   \n",
       "4                           Burundi      (A/R)     487     667     620   \n",
       "\n",
       "  1993/94 1994/95 1995/96 1996/97 1997/98  ... 2010/11 2011/12 2012/13  \\\n",
       "0  40,167  39,990  29,396  44,298  39,476  ...  71,811  64,395  75,896   \n",
       "1      33      77      62      71      64  ...      35      29      33   \n",
       "2      51     117     142     125     141  ...     117     132     105   \n",
       "3  28,167  28,192  18,060  29,197  26,148  ...  55,428  48,592  55,418   \n",
       "4     393     664     434     401     250  ...     353     204     406   \n",
       "\n",
       "  2013/14 2014/15 2015/16 2016/17 2017/18 2018/19 2019/20  \n",
       "0  74,494  69,873  71,332  75,508  70,324  81,708  76,076  \n",
       "1      35      39      41      45      35      42      52  \n",
       "2     120     100      84      78      84      83      81  \n",
       "3  54,689  53,305  52,871  56,788  52,740  65,131  58,211  \n",
       "4     163     248     269     196     202     204     272  \n",
       "\n",
       "[5 rows x 32 columns]"
      ]
     },
     "execution_count": 3,
     "metadata": {},
     "output_type": "execute_result"
    }
   ],
   "source": [
    "df = pd.read_csv(\"../data/total_production.csv\")\n",
    "df.head()"
   ]
  },
  {
   "cell_type": "code",
   "execution_count": 4,
   "id": "1fe7fbca",
   "metadata": {},
   "outputs": [
    {
     "name": "stdout",
     "output_type": "stream",
     "text": [
      "<class 'pandas.core.frame.DataFrame'>\n",
      "RangeIndex: 59 entries, 0 to 58\n",
      "Data columns (total 32 columns):\n",
      " #   Column      Non-Null Count  Dtype \n",
      "---  ------      --------------  ----- \n",
      " 0   Crop year   59 non-null     object\n",
      " 1   Unnamed: 1  55 non-null     object\n",
      " 2   1990/91     59 non-null     object\n",
      " 3   1991/92     59 non-null     object\n",
      " 4   1992/93     59 non-null     object\n",
      " 5   1993/94     59 non-null     object\n",
      " 6   1994/95     59 non-null     object\n",
      " 7   1995/96     59 non-null     object\n",
      " 8   1996/97     59 non-null     object\n",
      " 9   1997/98     59 non-null     object\n",
      " 10  1998/99     59 non-null     object\n",
      " 11  1999/00     59 non-null     object\n",
      " 12  2000/01     59 non-null     object\n",
      " 13  2001/02     59 non-null     object\n",
      " 14  2002/03     59 non-null     object\n",
      " 15  2003/04     59 non-null     object\n",
      " 16  2004/05     59 non-null     object\n",
      " 17  2005/06     59 non-null     object\n",
      " 18  2006/07     59 non-null     object\n",
      " 19  2007/08     59 non-null     object\n",
      " 20  2008/09     59 non-null     object\n",
      " 21  2009/10     59 non-null     object\n",
      " 22  2010/11     59 non-null     object\n",
      " 23  2011/12     59 non-null     object\n",
      " 24  2012/13     59 non-null     object\n",
      " 25  2013/14     59 non-null     object\n",
      " 26  2014/15     59 non-null     object\n",
      " 27  2015/16     59 non-null     object\n",
      " 28  2016/17     59 non-null     object\n",
      " 29  2017/18     59 non-null     object\n",
      " 30  2018/19     59 non-null     object\n",
      " 31  2019/20     59 non-null     object\n",
      "dtypes: object(32)\n",
      "memory usage: 14.9+ KB\n"
     ]
    }
   ],
   "source": [
    "df.info()"
   ]
  },
  {
   "cell_type": "code",
   "execution_count": 5,
   "id": "f2701a3e",
   "metadata": {},
   "outputs": [],
   "source": [
    "# Omit Unnamed: 1 column\n",
    "year_columns = df.columns[2:]\n",
    "\n",
    "# Remove comma from string values and turn into integers\n",
    "df[year_columns]  =  df[year_columns].apply(lambda x: x.str.replace(\",\", \"\")).astype(int)\n"
   ]
  },
  {
   "cell_type": "code",
   "execution_count": 6,
   "id": "fc6a62ca",
   "metadata": {},
   "outputs": [
    {
     "name": "stdout",
     "output_type": "stream",
     "text": [
      "<class 'pandas.core.frame.DataFrame'>\n",
      "RangeIndex: 59 entries, 0 to 58\n",
      "Data columns (total 32 columns):\n",
      " #   Column      Non-Null Count  Dtype \n",
      "---  ------      --------------  ----- \n",
      " 0   Crop year   59 non-null     object\n",
      " 1   Unnamed: 1  55 non-null     object\n",
      " 2   1990/91     59 non-null     int32 \n",
      " 3   1991/92     59 non-null     int32 \n",
      " 4   1992/93     59 non-null     int32 \n",
      " 5   1993/94     59 non-null     int32 \n",
      " 6   1994/95     59 non-null     int32 \n",
      " 7   1995/96     59 non-null     int32 \n",
      " 8   1996/97     59 non-null     int32 \n",
      " 9   1997/98     59 non-null     int32 \n",
      " 10  1998/99     59 non-null     int32 \n",
      " 11  1999/00     59 non-null     int32 \n",
      " 12  2000/01     59 non-null     int32 \n",
      " 13  2001/02     59 non-null     int32 \n",
      " 14  2002/03     59 non-null     int32 \n",
      " 15  2003/04     59 non-null     int32 \n",
      " 16  2004/05     59 non-null     int32 \n",
      " 17  2005/06     59 non-null     int32 \n",
      " 18  2006/07     59 non-null     int32 \n",
      " 19  2007/08     59 non-null     int32 \n",
      " 20  2008/09     59 non-null     int32 \n",
      " 21  2009/10     59 non-null     int32 \n",
      " 22  2010/11     59 non-null     int32 \n",
      " 23  2011/12     59 non-null     int32 \n",
      " 24  2012/13     59 non-null     int32 \n",
      " 25  2013/14     59 non-null     int32 \n",
      " 26  2014/15     59 non-null     int32 \n",
      " 27  2015/16     59 non-null     int32 \n",
      " 28  2016/17     59 non-null     int32 \n",
      " 29  2017/18     59 non-null     int32 \n",
      " 30  2018/19     59 non-null     int32 \n",
      " 31  2019/20     59 non-null     int32 \n",
      "dtypes: int32(30), object(2)\n",
      "memory usage: 8.0+ KB\n"
     ]
    }
   ],
   "source": [
    "df.info()"
   ]
  },
  {
   "cell_type": "code",
   "execution_count": 7,
   "id": "aeb3ffee",
   "metadata": {},
   "outputs": [
    {
     "name": "stdout",
     "output_type": "stream",
     "text": [
      "Distinct countries represented ['April group' 'Angola' 'Bolivia (Plurinational State of)' 'Brazil'\n",
      " 'Burundi' 'Ecuador' 'Indonesia' 'Madagascar' 'Malawi' 'Papua New Guinea'\n",
      " 'Paraguay' 'Peru' 'Rwanda' 'Timor-Leste' 'Zimbabwe' 'July group' 'Congo'\n",
      " 'Cuba' 'Dominican Republic' 'Haiti' 'Philippines' 'Tanzania' 'Zambia'\n",
      " 'October group' 'Cameroon' 'Central African Republic' 'Colombia'\n",
      " 'Costa Rica' \"Cote d'Ivoire\" 'Democratic Republic of Congo' 'El Salvador'\n",
      " 'Equatorial Guinea' 'Ethiopia' 'Gabon' 'Ghana' 'Guatemala' 'Guinea'\n",
      " 'Guyana' 'Honduras' 'India' 'Jamaica' 'Kenya'\n",
      " \"Lao People's Democratic Republic\" 'Liberia' 'Mexico' 'Nepal' 'Nicaragua'\n",
      " 'Nigeria' 'Panama' 'Sierra Leone' 'Sri Lanka' 'Thailand' 'Togo'\n",
      " 'Trinidad & Tobago' 'Uganda' 'Venezuela' 'Viet Nam' 'Yemen' 'Total']\n"
     ]
    }
   ],
   "source": [
    "# Distinct Countries\n",
    "countries = df[\"Crop year\"].unique()\n",
    "print(\"Distinct countries represented {}\".format(countries))"
   ]
  },
  {
   "cell_type": "code",
   "execution_count": 8,
   "id": "659b0c20",
   "metadata": {},
   "outputs": [
    {
     "name": "stdout",
     "output_type": "stream",
     "text": [
      "Distinct years Index(['1990/91', '1991/92', '1992/93', '1993/94', '1994/95', '1995/96',\n",
      "       '1996/97', '1997/98', '1998/99', '1999/00', '2000/01', '2001/02',\n",
      "       '2002/03', '2003/04', '2004/05', '2005/06', '2006/07', '2007/08',\n",
      "       '2008/09', '2009/10', '2010/11', '2011/12', '2012/13', '2013/14',\n",
      "       '2014/15', '2015/16', '2016/17', '2017/18', '2018/19', '2019/20'],\n",
      "      dtype='object')\n"
     ]
    }
   ],
   "source": [
    "# Distinct Years\n",
    "years = df.columns.unique()\n",
    "print(\"Distinct years {}\".format(years[2:]))"
   ]
  },
  {
   "cell_type": "code",
   "execution_count": 9,
   "id": "6e856de7",
   "metadata": {},
   "outputs": [
    {
     "name": "stdout",
     "output_type": "stream",
     "text": [
      "Data frame has null values: True\n"
     ]
    }
   ],
   "source": [
    "print(\"Data frame has null values: {}\".format(df.isnull().values.any()))"
   ]
  },
  {
   "cell_type": "code",
   "execution_count": 11,
   "id": "387004f3",
   "metadata": {},
   "outputs": [],
   "source": [
    "# Save dataframe\n",
    "# df.to_csv(\"total_production_v1\")"
   ]
  }
 ],
 "metadata": {
  "kernelspec": {
   "display_name": "Python 3",
   "language": "python",
   "name": "python3"
  },
  "language_info": {
   "codemirror_mode": {
    "name": "ipython",
    "version": 3
   },
   "file_extension": ".py",
   "mimetype": "text/x-python",
   "name": "python",
   "nbconvert_exporter": "python",
   "pygments_lexer": "ipython3",
   "version": "3.11.0"
  },
  "vscode": {
   "interpreter": {
    "hash": "d390166e6a2cd66a717427d4ec4102b1d391ab55312eabea8f2ede5b5421a1f1"
   }
  }
 },
 "nbformat": 4,
 "nbformat_minor": 5
}
